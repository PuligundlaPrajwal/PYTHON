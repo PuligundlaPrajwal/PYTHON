{
  "nbformat": 4,
  "nbformat_minor": 0,
  "metadata": {
    "colab": {
      "name": "MODULE 01",
      "provenance": [],
      "collapsed_sections": [],
      "authorship_tag": "ABX9TyN25IixUF9VKhkQUU/kxtIu",
      "include_colab_link": true
    },
    "kernelspec": {
      "name": "python3",
      "display_name": "Python 3"
    },
    "language_info": {
      "name": "python"
    }
  },
  "cells": [
    {
      "cell_type": "markdown",
      "metadata": {
        "id": "view-in-github",
        "colab_type": "text"
      },
      "source": [
        "<a href=\"https://colab.research.google.com/github/PuligundlaPrajwal/PYTHON/blob/main/SAMPLEV.ipynb\" target=\"_parent\"><img src=\"https://colab.research.google.com/assets/colab-badge.svg\" alt=\"Open In Colab\"/></a>"
      ]
    },
    {
      "cell_type": "markdown",
      "source": [
        "# Accept input from user and store it in variable and print the value"
      ],
      "metadata": {
        "id": "MDkyrNmleShO"
      }
    },
    {
      "cell_type": "code",
      "source": [
        "a = str(input(\"Enter name: \"))\n",
        "b = int(input(\"Enter age: \"))\n",
        "print (a)\n",
        "print (b)"
      ],
      "metadata": {
        "colab": {
          "base_uri": "https://localhost:8080/"
        },
        "id": "_8v1JXoNeV_l",
        "outputId": "0d43107b-af4c-44c7-8540-d2f306e08d51"
      },
      "execution_count": 2,
      "outputs": [
        {
          "output_type": "stream",
          "name": "stdout",
          "text": [
            "Enter name: prajwal\n",
            "Enter age: 17\n",
            "prajwal\n",
            "17\n"
          ]
        }
      ]
    },
    {
      "cell_type": "markdown",
      "source": [
        "# Use of print statements and use of (.format )for printing different data types."
      ],
      "metadata": {
        "id": "rLeQb-30fNOe"
      }
    },
    {
      "cell_type": "code",
      "source": [
        "a = \"PRAJWAL\"\n",
        "b = \"VU21CSEN0100317\"\n",
        "c = \"cse\"\n",
        "d = \"name {} roll {} branch {}\"\n",
        "print(d.format(a,b,c))"
      ],
      "metadata": {
        "colab": {
          "base_uri": "https://localhost:8080/"
        },
        "id": "5DoQPH5jfSjF",
        "outputId": "fed4c4cd-ed81-49f7-8161-e30f91a1f30a"
      },
      "execution_count": 19,
      "outputs": [
        {
          "output_type": "stream",
          "name": "stdout",
          "text": [
            "name PRAJWAL roll VU21CSEN0100317 branch cse\n"
          ]
        }
      ]
    },
    {
      "cell_type": "markdown",
      "source": [
        "# Take 2 numbers as user input and add, multiply, divide, subtract, remainder and print\n",
        "the output (Same operations on floating point input as well)"
      ],
      "metadata": {
        "id": "SA-NC7PjfqYF"
      }
    },
    {
      "cell_type": "code",
      "source": [
        "a=int(input(\"Enter a: \"))\n",
        "b=int(input(\"Enter b: \"))\n",
        "add = a + b\n",
        "sub = a - b\n",
        "mul = a * b\n",
        "div = a / b\n",
        "rem = a % b\n",
        "print (add)\n",
        "print (sub)\n",
        "print (mul)\n",
        "print (div)\n",
        "print (rem)"
      ],
      "metadata": {
        "colab": {
          "base_uri": "https://localhost:8080/"
        },
        "id": "qZFHZIIVfuru",
        "outputId": "6e790de0-6044-407d-fb08-b4a5c713d360"
      },
      "execution_count": 8,
      "outputs": [
        {
          "output_type": "stream",
          "name": "stdout",
          "text": [
            "Enter a: 3\n",
            "Enter b: 3\n",
            "6\n",
            "0\n",
            "9\n",
            "1.0\n",
            "0\n"
          ]
        }
      ]
    },
    {
      "cell_type": "markdown",
      "source": [
        "# Conversion of one unit to another (such as hours to minutes, miles to km and etc)"
      ],
      "metadata": {
        "id": "KraimHKQge5G"
      }
    },
    {
      "cell_type": "code",
      "source": [
        "hours = int(input(\"Enter hour: \"))\n",
        "minutes = 60 * hours\n",
        "print (minutes)"
      ],
      "metadata": {
        "colab": {
          "base_uri": "https://localhost:8080/"
        },
        "id": "oe-_W_t3gihS",
        "outputId": "8e89d290-6f95-4f11-edef-fdc896376bb8"
      },
      "execution_count": 10,
      "outputs": [
        {
          "output_type": "stream",
          "name": "stdout",
          "text": [
            "Enter hour: 2\n",
            "120\n"
          ]
        }
      ]
    },
    {
      "cell_type": "markdown",
      "source": [
        "# Usage of mathematical functions in python like math.ceil, floor, fabs, fmod, trunc,\n",
        "pow, sqrt etc."
      ],
      "metadata": {
        "id": "EPoDgr_MkTUn"
      }
    },
    {
      "cell_type": "code",
      "source": [
        "import math \n",
        "\n",
        "my_int = 4.5467\n",
        "print (math.ceil(my_int)) "
      ],
      "metadata": {
        "colab": {
          "base_uri": "https://localhost:8080/"
        },
        "id": "iEaQPuIpkTuh",
        "outputId": "3e60b761-43b4-4229-cf75-e3aef16684a7"
      },
      "execution_count": 20,
      "outputs": [
        {
          "output_type": "stream",
          "name": "stdout",
          "text": [
            "5\n"
          ]
        }
      ]
    },
    {
      "cell_type": "code",
      "source": [
        "import math \n",
        "\n",
        "my_int = 4.5467\n",
        "print (math.floor(my_int))"
      ],
      "metadata": {
        "colab": {
          "base_uri": "https://localhost:8080/"
        },
        "id": "w9IueEy_kh1f",
        "outputId": "ae5bae28-67f5-44fb-d79b-3750900e4b03"
      },
      "execution_count": 21,
      "outputs": [
        {
          "output_type": "stream",
          "name": "stdout",
          "text": [
            "4\n"
          ]
        }
      ]
    },
    {
      "cell_type": "markdown",
      "source": [
        "# Building a mathematical calculator that can perform operations according to user input.\n",
        "Use decision making statement\n"
      ],
      "metadata": {
        "id": "qyQSFX8fhfYg"
      }
    },
    {
      "cell_type": "code",
      "source": [
        "print (\"Enter 1 for addition\")\n",
        "print (\"Enter 2 for subtraction\")\n",
        "print (\"Enter 3 for multiplication\")\n",
        "print (\"Enter 4 for division\")\n",
        "op = int(input(\"Enter number corresponding to operation:\"))\n",
        "a=int(input(\"Enter a: \"))\n",
        "b=int(input(\"Enter b: \"))\n",
        "if op == 1:\n",
        "  print(a + b)\n",
        "elif op == 2:\n",
        "  print(a - b)\n",
        "elif op == 3:\n",
        "  print(a * b)\n",
        "elif op == 4:\n",
        "  print(a / b)\n",
        "else:\n",
        "  print(\"Error\")"
      ],
      "metadata": {
        "colab": {
          "base_uri": "https://localhost:8080/"
        },
        "id": "rCbsMfmohjRm",
        "outputId": "6f2b6fa5-8240-4e31-ac50-4bf9c4a7fd9a"
      },
      "execution_count": 13,
      "outputs": [
        {
          "output_type": "stream",
          "name": "stdout",
          "text": [
            "Enter 1 for addition\n",
            "Enter 2 for subtraction\n",
            "Enter 3 for multiplication\n",
            "Enter 4 for division\n",
            "Enter number corresponding to operation:3\n",
            "Enter a: 2\n",
            "Enter b: 2\n",
            "4\n"
          ]
        }
      ]
    },
    {
      "cell_type": "markdown",
      "source": [
        "# Accepting 5 different subject marks from user and displaying the grade of the student."
      ],
      "metadata": {
        "id": "-Lo-Je4Oicmu"
      }
    },
    {
      "cell_type": "code",
      "source": [
        "sub1 = int(input(\"Enter marks in sub1: \"))\n",
        "sub2 = int(input(\"Enter marks in sub2: \"))\n",
        "sub3 = int(input(\"Enter marks in sub3: \"))\n",
        "sub4 = int(input(\"Enter marks in sub4: \"))\n",
        "sub5 = int(input(\"Enter marks in sub5: \"))\n",
        "#sub1\n",
        "if sub1 >= 90:\n",
        "  print(\"A in sub1\")\n",
        "elif (90 > sub1 >= 80):\n",
        "  print(\"B in sub1\")\n",
        "elif (80 > sub1 >= 70):\n",
        "  print(\"C in sub1\")\n",
        "elif (70 > sub1 >= 60):\n",
        "  print(\"D in sub1\")\n",
        "elif (60 > sub1 >= 50):\n",
        "  print(\"E in sub1\")\n",
        "else:\n",
        "  print(\"f\")\n",
        "#sub2\n",
        "if sub2 >= 90:\n",
        "  print(\"A in sub2\")\n",
        "elif (90 > sub2 >= 80):\n",
        "  print(\"B in sub2\")\n",
        "elif (80 > sub2 >= 70):\n",
        "  print(\"C in sub2\")\n",
        "elif (70 > sub2 >= 60):\n",
        "  print(\"D in sub2\")\n",
        "elif (60 > sub2 >= 50):\n",
        "  print(\"E in sub2\")\n",
        "else:\n",
        "  print(\"f\")\n",
        "#sub3\n",
        "if sub3 >= 90:\n",
        "  print(\"A in sub3\")\n",
        "elif (90 > sub3 >= 80):\n",
        "  print(\"B in sub3\")\n",
        "elif (80 > sub3 >= 70):\n",
        "  print(\"C in sub3\")\n",
        "elif (70 > sub3 >= 60):\n",
        "  print(\"D in sub3\")\n",
        "elif (60 > sub3 >= 50):\n",
        "  print(\"E in sub3\")\n",
        "else:\n",
        "  print(\"f\")\n",
        "#sub4\n",
        "if sub4 >= 90:\n",
        "  print(\"A in sub4\")\n",
        "elif (90 > sub4 >= 80):\n",
        "  print(\"B in sub4\")\n",
        "elif (80 > sub4 >= 70):\n",
        "  print(\"C in sub4\")\n",
        "elif (70 > sub4 >= 60):\n",
        "  print(\"D in sub4\")\n",
        "elif (60 > sub4 >= 50):\n",
        "  print(\"E in sub4\")\n",
        "else:\n",
        "  print(\"f\")\n",
        "#sub5\n",
        "if sub5 >= 90:\n",
        "  print(\"A in sub5\")\n",
        "elif (90 > sub5 >= 80):\n",
        "  print(\"B in sub5\")\n",
        "elif (80 > sub5 >= 70):\n",
        "  print(\"C in sub5\")\n",
        "elif (70 > sub5 >= 60):\n",
        "  print(\"D in sub5\")\n",
        "elif (60 > sub5 >= 50):\n",
        "  print(\"E in sub5\")\n",
        "else:\n",
        "  print(\"f\")"
      ],
      "metadata": {
        "colab": {
          "base_uri": "https://localhost:8080/"
        },
        "id": "LDS2XmCIihbI",
        "outputId": "8efe30db-52d2-4f62-c9c6-265125535eaa"
      },
      "execution_count": 14,
      "outputs": [
        {
          "output_type": "stream",
          "name": "stdout",
          "text": [
            "Enter marks in sub1: 20\n",
            "Enter marks in sub2: 40\n",
            "Enter marks in sub3: 55\n",
            "Enter marks in sub4: 70\n",
            "Enter marks in sub5: 60\n",
            "f\n",
            "f\n",
            "E in sub3\n",
            "C in sub4\n",
            "D in sub5\n"
          ]
        }
      ]
    },
    {
      "cell_type": "markdown",
      "source": [
        "# Printing all even numbers, odd numbers, count of even numbers, count of odd numbers within a given range.\n",
        "o Compute the factorial of a given number. b) Compute GCD of two given\n",
        "numbers. c) Generate Fibonacci series up to N numbers."
      ],
      "metadata": {
        "id": "LUhihQ5LiuiH"
      }
    },
    {
      "cell_type": "code",
      "source": [
        "range = int(input(\"Enter range of numbers: \"))\n",
        "a = 1\n",
        "even = []\n",
        "odd = []\n",
        "while a <= range:\n",
        "  if a % 2 == 0:\n",
        "    even.append (a)\n",
        "    a = a + 1\n",
        "  else:\n",
        "    odd.append (a)\n",
        "    a = a + 1\n",
        "print (\"Even numbers are \",even)\n",
        "print (\"Odd numbers are \",odd)\n",
        "print (\"Number of even number within the given range are \",len(even))\n",
        "print (\"Number of odd number within the given range are \",len(odd))"
      ],
      "metadata": {
        "colab": {
          "base_uri": "https://localhost:8080/"
        },
        "id": "LI-goQQYi06w",
        "outputId": "b517a2e2-3f24-4b00-e032-15aeeac2e3e5"
      },
      "execution_count": 27,
      "outputs": [
        {
          "output_type": "stream",
          "name": "stdout",
          "text": [
            "Enter range of numbers: 2\n",
            "Even numbers are  [2]\n",
            "Odd numbers are  [1]\n",
            "Number of even number within the given range are  1\n",
            "Number of odd number within the given range are  1\n"
          ]
        }
      ]
    },
    {
      "cell_type": "code",
      "source": [
        "# Factorial\n",
        "num = int(input(\"Enter the number you want a factorial of: \"))\n",
        "factorial = 1\n",
        "i = 1\n",
        "for i in range(1,num + 1):\n",
        "  factorial = factorial*i\n",
        "print(factorial)"
      ],
      "metadata": {
        "colab": {
          "base_uri": "https://localhost:8080/",
          "height": 252
        },
        "id": "IGw5ssd8o8Mx",
        "outputId": "f7c684bb-ec7e-4cd1-a154-b7d615e211d4"
      },
      "execution_count": 29,
      "outputs": [
        {
          "name": "stdout",
          "output_type": "stream",
          "text": [
            "Enter the number you want a factorial of: 5\n"
          ]
        },
        {
          "output_type": "error",
          "ename": "TypeError",
          "evalue": "ignored",
          "traceback": [
            "\u001b[0;31m---------------------------------------------------------------------------\u001b[0m",
            "\u001b[0;31mTypeError\u001b[0m                                 Traceback (most recent call last)",
            "\u001b[0;32m<ipython-input-29-e96b58056645>\u001b[0m in \u001b[0;36m<module>\u001b[0;34m()\u001b[0m\n\u001b[1;32m      3\u001b[0m \u001b[0mfactorial\u001b[0m \u001b[0;34m=\u001b[0m \u001b[0;36m1\u001b[0m\u001b[0;34m\u001b[0m\u001b[0;34m\u001b[0m\u001b[0m\n\u001b[1;32m      4\u001b[0m \u001b[0mi\u001b[0m \u001b[0;34m=\u001b[0m \u001b[0;36m1\u001b[0m\u001b[0;34m\u001b[0m\u001b[0;34m\u001b[0m\u001b[0m\n\u001b[0;32m----> 5\u001b[0;31m \u001b[0;32mfor\u001b[0m \u001b[0mi\u001b[0m \u001b[0;32min\u001b[0m \u001b[0mrange\u001b[0m\u001b[0;34m(\u001b[0m\u001b[0;36m1\u001b[0m\u001b[0;34m,\u001b[0m\u001b[0mnum\u001b[0m \u001b[0;34m+\u001b[0m \u001b[0;36m1\u001b[0m\u001b[0;34m)\u001b[0m\u001b[0;34m:\u001b[0m\u001b[0;34m\u001b[0m\u001b[0;34m\u001b[0m\u001b[0m\n\u001b[0m\u001b[1;32m      6\u001b[0m   \u001b[0mfactorial\u001b[0m \u001b[0;34m=\u001b[0m \u001b[0mfactorial\u001b[0m\u001b[0;34m*\u001b[0m\u001b[0mi\u001b[0m\u001b[0;34m\u001b[0m\u001b[0;34m\u001b[0m\u001b[0m\n\u001b[1;32m      7\u001b[0m \u001b[0mprint\u001b[0m\u001b[0;34m(\u001b[0m\u001b[0mfactorial\u001b[0m\u001b[0;34m)\u001b[0m\u001b[0;34m\u001b[0m\u001b[0;34m\u001b[0m\u001b[0m\n",
            "\u001b[0;31mTypeError\u001b[0m: 'int' object is not callable"
          ]
        }
      ]
    },
    {
      "cell_type": "code",
      "source": [
        "# GCD\n",
        "def compute_hcf(x, y):\n",
        "    if x > y:\n",
        "        smaller = y\n",
        "    else:\n",
        "        smaller = x\n",
        "    for i in range(1, smaller+1):\n",
        "        if((x % i == 0) and (y % i == 0)):\n",
        "            hcf = i \n",
        "    return hcf\n",
        "num1 = 54 \n",
        "num2 = 24\n",
        "print(\"The H.C.F. is\", compute_hcf(num1, num2))\n"
      ],
      "metadata": {
        "colab": {
          "base_uri": "https://localhost:8080/",
          "height": 321
        },
        "id": "MEYavX-mpJ3B",
        "outputId": "0c3734c8-828b-4373-d1df-e55646bf4f4b"
      },
      "execution_count": 33,
      "outputs": [
        {
          "output_type": "error",
          "ename": "TypeError",
          "evalue": "ignored",
          "traceback": [
            "\u001b[0;31m---------------------------------------------------------------------------\u001b[0m",
            "\u001b[0;31mTypeError\u001b[0m                                 Traceback (most recent call last)",
            "\u001b[0;32m<ipython-input-33-d27a013c302c>\u001b[0m in \u001b[0;36m<module>\u001b[0;34m()\u001b[0m\n\u001b[1;32m     11\u001b[0m \u001b[0mnum1\u001b[0m \u001b[0;34m=\u001b[0m \u001b[0;36m54\u001b[0m\u001b[0;34m\u001b[0m\u001b[0;34m\u001b[0m\u001b[0m\n\u001b[1;32m     12\u001b[0m \u001b[0mnum2\u001b[0m \u001b[0;34m=\u001b[0m \u001b[0;36m24\u001b[0m\u001b[0;34m\u001b[0m\u001b[0;34m\u001b[0m\u001b[0m\n\u001b[0;32m---> 13\u001b[0;31m \u001b[0mprint\u001b[0m\u001b[0;34m(\u001b[0m\u001b[0;34m\"The H.C.F. is\"\u001b[0m\u001b[0;34m,\u001b[0m \u001b[0mcompute_hcf\u001b[0m\u001b[0;34m(\u001b[0m\u001b[0mnum1\u001b[0m\u001b[0;34m,\u001b[0m \u001b[0mnum2\u001b[0m\u001b[0;34m)\u001b[0m\u001b[0;34m)\u001b[0m\u001b[0;34m\u001b[0m\u001b[0;34m\u001b[0m\u001b[0m\n\u001b[0m",
            "\u001b[0;32m<ipython-input-33-d27a013c302c>\u001b[0m in \u001b[0;36mcompute_hcf\u001b[0;34m(x, y)\u001b[0m\n\u001b[1;32m      5\u001b[0m     \u001b[0;32melse\u001b[0m\u001b[0;34m:\u001b[0m\u001b[0;34m\u001b[0m\u001b[0;34m\u001b[0m\u001b[0m\n\u001b[1;32m      6\u001b[0m         \u001b[0msmaller\u001b[0m \u001b[0;34m=\u001b[0m \u001b[0mx\u001b[0m\u001b[0;34m\u001b[0m\u001b[0;34m\u001b[0m\u001b[0m\n\u001b[0;32m----> 7\u001b[0;31m     \u001b[0;32mfor\u001b[0m \u001b[0mi\u001b[0m \u001b[0;32min\u001b[0m \u001b[0mrange\u001b[0m\u001b[0;34m(\u001b[0m\u001b[0;36m1\u001b[0m\u001b[0;34m,\u001b[0m \u001b[0msmaller\u001b[0m\u001b[0;34m+\u001b[0m\u001b[0;36m1\u001b[0m\u001b[0;34m)\u001b[0m\u001b[0;34m:\u001b[0m\u001b[0;34m\u001b[0m\u001b[0;34m\u001b[0m\u001b[0m\n\u001b[0m\u001b[1;32m      8\u001b[0m         \u001b[0;32mif\u001b[0m\u001b[0;34m(\u001b[0m\u001b[0;34m(\u001b[0m\u001b[0mx\u001b[0m \u001b[0;34m%\u001b[0m \u001b[0mi\u001b[0m \u001b[0;34m==\u001b[0m \u001b[0;36m0\u001b[0m\u001b[0;34m)\u001b[0m \u001b[0;32mand\u001b[0m \u001b[0;34m(\u001b[0m\u001b[0my\u001b[0m \u001b[0;34m%\u001b[0m \u001b[0mi\u001b[0m \u001b[0;34m==\u001b[0m \u001b[0;36m0\u001b[0m\u001b[0;34m)\u001b[0m\u001b[0;34m)\u001b[0m\u001b[0;34m:\u001b[0m\u001b[0;34m\u001b[0m\u001b[0;34m\u001b[0m\u001b[0m\n\u001b[1;32m      9\u001b[0m             \u001b[0mhcf\u001b[0m \u001b[0;34m=\u001b[0m \u001b[0mi\u001b[0m\u001b[0;34m\u001b[0m\u001b[0;34m\u001b[0m\u001b[0m\n",
            "\u001b[0;31mTypeError\u001b[0m: 'int' object is not callable"
          ]
        }
      ]
    },
    {
      "cell_type": "code",
      "source": [
        "# Fibonacci\n",
        "nterms = int(input(\"How many terms? \"))\n",
        "n1, n2 = 0, 1\n",
        "count = 0\n",
        "if nterms <= 0:\n",
        "   print(\"Please enter a positive integer\")\n",
        "elif nterms == 1:\n",
        "   print(\"Fibonacci sequence upto\",nterms,\":\")\n",
        "   print(n1)\n",
        "else:\n",
        "   print(\"Fibonacci sequence:\")\n",
        "   while count < nterms:\n",
        "       print(n1)\n",
        "       nth = n1 + n2\n",
        "       \n",
        "       n1 = n2\n",
        "       n2 = nth\n",
        "       count += 1\n"
      ],
      "metadata": {
        "colab": {
          "base_uri": "https://localhost:8080/"
        },
        "id": "Qg7G-ivSpXop",
        "outputId": "5002afba-7e64-4a8a-f544-e84f806f0bdd"
      },
      "execution_count": 31,
      "outputs": [
        {
          "output_type": "stream",
          "name": "stdout",
          "text": [
            "How many terms? 7\n",
            "Fibonacci sequence:\n",
            "0\n",
            "1\n",
            "1\n",
            "2\n",
            "3\n",
            "5\n",
            "8\n"
          ]
        }
      ]
    },
    {
      "cell_type": "markdown",
      "source": [
        "# Check whether the given input is a) palindrome b) strong c) perfect"
      ],
      "metadata": {
        "id": "-bDUjcgdlGUR"
      }
    },
    {
      "cell_type": "code",
      "execution_count": 23,
      "metadata": {
        "id": "9cf213ed",
        "outputId": "17989671-9e9e-489c-e963-6b446fe383ef",
        "colab": {
          "base_uri": "https://localhost:8080/"
        }
      },
      "outputs": [
        {
          "output_type": "stream",
          "name": "stdout",
          "text": [
            "Enter a number:5\n",
            "The number is palindrome!\n"
          ]
        }
      ],
      "source": [
        "# A)\n",
        "num=int(input(\"Enter a number:\"))\n",
        "temp=num\n",
        "rev=0\n",
        "while(num>0):\n",
        "    dig=num%10\n",
        "    rev=rev*10+dig\n",
        "    num=num//10\n",
        "if(temp==rev):\n",
        "     print(\"The number is palindrome!\")\n",
        "else:\n",
        "    print(\"Not a palindrome!\")"
      ]
    },
    {
      "cell_type": "code",
      "source": [
        "# B)\n",
        "num = int(input(\"Enter a number: \"))\n",
        "sum = 0\n",
        "temp = num\n",
        "while temp > 0:\n",
        "   digit = temp % 10\n",
        "   sum += digit ** 3\n",
        "   temp //= 10\n",
        "if num == sum:\n",
        "   print(num,\"is an Armstrong number\")\n",
        "else:\n",
        "   print(num,\"is not an Armstrong number\")\n",
        "\n"
      ],
      "metadata": {
        "colab": {
          "base_uri": "https://localhost:8080/"
        },
        "id": "eUoD6EnClZip",
        "outputId": "d67d5885-2daa-45c3-ae05-0a195a383d63"
      },
      "execution_count": 24,
      "outputs": [
        {
          "output_type": "stream",
          "name": "stdout",
          "text": [
            "Enter a number: 153\n",
            "153 is an Armstrong number\n"
          ]
        }
      ]
    },
    {
      "cell_type": "code",
      "source": [
        "# C)\n",
        "n = int(input(\"Enter any number: \"))\n",
        "sum1 = 0\n",
        "for i in range(1, n):\n",
        "    if(n % i == 0):\n",
        "        sum1 = sum1 + i\n",
        "if (sum1 == n):\n",
        "    print(\"The number is a Perfect number!\")\n",
        "else:\n",
        "    print(\"The number is not a Perfect number!\")"
      ],
      "metadata": {
        "colab": {
          "base_uri": "https://localhost:8080/"
        },
        "id": "83dAcb1BPQkD",
        "outputId": "ceb9c848-7a32-49ba-8110-bb1cab0037d0"
      },
      "execution_count": 25,
      "outputs": [
        {
          "output_type": "stream",
          "name": "stdout",
          "text": [
            "Enter any number: 6\n",
            "The number is a Perfect number!\n"
          ]
        }
      ]
    },
    {
      "cell_type": "markdown",
      "source": [
        "# Compute compound interest using loop for a certain principal and interest amount"
      ],
      "metadata": {
        "id": "JPsEppg3maMi"
      }
    },
    {
      "cell_type": "code",
      "source": [
        "principal=int(input(\"Enter the principle amount:\"))\n",
        "rate=int(input(\"Enter the rate:\"))\n",
        "years=int(input(\"Enter the number of years:\"))\n",
        "n = principal\n",
        "for i in range(years):\n",
        "    n=n+((n*rate)/100)\n",
        "    interest=n-principal\n",
        "print(n)\n",
        "print(interest)"
      ],
      "metadata": {
        "colab": {
          "base_uri": "https://localhost:8080/"
        },
        "id": "xLauVZ4pR8ra",
        "outputId": "7bcef005-d573-4312-f017-50352a5a4fb4"
      },
      "execution_count": 26,
      "outputs": [
        {
          "output_type": "stream",
          "name": "stdout",
          "text": [
            "Enter the principle amount:100\n",
            "Enter the rate:2\n",
            "Enter the number of years:3\n",
            "106.1208\n",
            "6.120800000000003\n"
          ]
        }
      ]
    }
  ]
}