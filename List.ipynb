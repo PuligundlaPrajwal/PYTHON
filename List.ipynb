{
  "nbformat": 4,
  "nbformat_minor": 0,
  "metadata": {
    "colab": {
      "name": "List",
      "provenance": [],
      "collapsed_sections": [],
      "authorship_tag": "ABX9TyNbHwou+t04VFb3vz0I5uUh",
      "include_colab_link": true
    },
    "kernelspec": {
      "name": "python3",
      "display_name": "Python 3"
    },
    "language_info": {
      "name": "python"
    }
  },
  "cells": [
    {
      "cell_type": "markdown",
      "metadata": {
        "id": "view-in-github",
        "colab_type": "text"
      },
      "source": [
        "<a href=\"https://colab.research.google.com/github/PuligundlaPrajwal/PYTHON/blob/main/List.ipynb\" target=\"_parent\"><img src=\"https://colab.research.google.com/assets/colab-badge.svg\" alt=\"Open In Colab\"/></a>"
      ]
    },
    {
      "cell_type": "code",
      "execution_count": null,
      "metadata": {
        "id": "PQ1tfejwvoZA"
      },
      "outputs": [],
      "source": [
        "#append = adds at last pos\n",
        "fruits = ['apple', 'banana', 'cherry']\n",
        "fruits.append(\"orange\")\n",
        "print (fruits[3])0"
      ]
    },
    {
      "cell_type": "code",
      "source": [
        "#insert\n",
        "fruits = ['apple', 'banana', 'cherry','jack fruit']\n",
        "print (fruits)\n",
        "fruits.insert (2,\"Mango\")\n",
        "print (fruits)"
      ],
      "metadata": {
        "id": "X4dyypjSvwtS"
      },
      "execution_count": null,
      "outputs": []
    },
    {
      "cell_type": "code",
      "source": [
        "#remove\n",
        "fruits = ['apple', 'banana', 'cherry','jack fruit']\n",
        "print (fruits)\n",
        "fruits.remove (\"banana\")\n",
        "print (fruits)"
      ],
      "metadata": {
        "id": "p6PmIvtsv1NB"
      },
      "execution_count": null,
      "outputs": []
    },
    {
      "cell_type": "code",
      "source": [
        "#pop\n",
        "fruits = ['apple','apple','banana', 'cherry','jack fruit']\n",
        "print (fruits)\n",
        "fruits.pop(1)\n",
        "print (fruits)"
      ],
      "metadata": {
        "id": "9diPfUmDv4ga"
      },
      "execution_count": null,
      "outputs": []
    },
    {
      "cell_type": "code",
      "source": [
        "#number descending sort\n",
        "num = [\"1\",\"5\",\"9\",\"4\",\"-2\"]\n",
        "print (num)\n",
        "num.sort (reverse=True)\n",
        "print (num)"
      ],
      "metadata": {
        "id": "qga_3yUEv7Nj"
      },
      "execution_count": null,
      "outputs": []
    },
    {
      "cell_type": "code",
      "source": [
        "#sort\n",
        "alpha = [\"a\",\"e\",\"c\"]\n",
        "print (alpha)\n",
        "alpha.sort()\n",
        "print (alpha)"
      ],
      "metadata": {
        "id": "YBsY2v3Yv9Jq"
      },
      "execution_count": null,
      "outputs": []
    },
    {
      "cell_type": "code",
      "source": [
        "#reverse\n",
        "alpha = [\"a\",\"e\",\"c\"]\n",
        "print (alpha)\n",
        "alpha.reverse()\n",
        "print (alpha)"
      ],
      "metadata": {
        "id": "YIHzdRcswBNi"
      },
      "execution_count": null,
      "outputs": []
    },
    {
      "cell_type": "code",
      "source": [
        "#for loop\n",
        "fruits = [\"apple\", \"banana\", \"cherry\"]\n",
        "for x in fruits:\n",
        "  print(x)"
      ],
      "metadata": {
        "id": "Q9F5YPVpwDpA"
      },
      "execution_count": null,
      "outputs": []
    },
    {
      "cell_type": "code",
      "source": [
        "#while loop\n",
        "i = 1\n",
        "while i < 6:\n",
        "  print(i)\n",
        "  i += 1"
      ],
      "metadata": {
        "id": "Q13u-MHfwFUr"
      },
      "execution_count": null,
      "outputs": []
    }
  ]
}