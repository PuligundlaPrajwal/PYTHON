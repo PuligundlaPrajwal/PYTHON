{
  "cells": [
    {
      "cell_type": "markdown",
      "metadata": {
        "id": "view-in-github",
        "colab_type": "text"
      },
      "source": [
        "<a href=\"https://colab.research.google.com/github/PuligundlaPrajwal/PYTHON/blob/main/Control_structures_02.ipynb\" target=\"_parent\"><img src=\"https://colab.research.google.com/assets/colab-badge.svg\" alt=\"Open In Colab\"/></a>"
      ]
    },
    {
      "cell_type": "markdown",
      "id": "2eefeee0",
      "metadata": {
        "id": "2eefeee0"
      },
      "source": [
        "LOOPS"
      ]
    },
    {
      "cell_type": "code",
      "execution_count": null,
      "id": "8cabb068",
      "metadata": {
        "id": "8cabb068",
        "outputId": "e601ed66-2621-4845-be37-7e985705f72f"
      },
      "outputs": [
        {
          "name": "stdout",
          "output_type": "stream",
          "text": [
            "enter n: 20\n",
            "the sum is:  210\n"
          ]
        }
      ],
      "source": [
        "n=int(input(\"enter n: \"))\n",
        "sum=0\n",
        "i=1\n",
        "while i<=n:\n",
        "    sum=sum+i\n",
        "    i=i+1\n",
        "print(\"the sum is: \",sum)"
      ]
    },
    {
      "cell_type": "markdown",
      "id": "dec5f7ec",
      "metadata": {
        "id": "dec5f7ec"
      },
      "source": [
        "## Leap year"
      ]
    },
    {
      "cell_type": "code",
      "execution_count": null,
      "id": "5f33dc8b",
      "metadata": {
        "id": "5f33dc8b",
        "outputId": "2479ab00-1dcb-4ac2-9402-153bb8cfa1fb"
      },
      "outputs": [
        {
          "name": "stdout",
          "output_type": "stream",
          "text": [
            "enter year: 2022\n",
            "not a leap year\n"
          ]
        }
      ],
      "source": [
        "year=int(input(\"enter year: \"))\n",
        "if(year%4 == 0) :\n",
        "    print(\"leap year\")\n",
        "else:\n",
        "    print(\"not a leap year\")\n",
        "    "
      ]
    },
    {
      "cell_type": "markdown",
      "id": "79b1438a",
      "metadata": {
        "id": "79b1438a"
      },
      "source": [
        "## triangle"
      ]
    },
    {
      "cell_type": "code",
      "execution_count": null,
      "id": "4eb94ba6",
      "metadata": {
        "id": "4eb94ba6",
        "outputId": "93de15a3-4c29-419c-f1a4-2b34ba94b5d0"
      },
      "outputs": [
        {
          "name": "stdout",
          "output_type": "stream",
          "text": [
            "enter a: 10\n",
            "enter b: 10\n",
            "enter c: 10\n",
            "it is a eqilateral\n"
          ]
        }
      ],
      "source": [
        "a=int(input(\"enter a: \"))\n",
        "b=int(input(\"enter b: \"))\n",
        "c=int(input(\"enter c: \"))\n",
        "if a == b == c:\n",
        "    print(\"it is a eqilateral\")\n",
        "elif a==b or b==c or c==a:\n",
        "    print(\"it is a iscoseles\")\n",
        "else:\n",
        "    print(\"it is a scalen\")"
      ]
    },
    {
      "cell_type": "markdown",
      "id": "620ad11e",
      "metadata": {
        "id": "620ad11e"
      },
      "source": [
        "## Minimum amoung 3"
      ]
    },
    {
      "cell_type": "code",
      "execution_count": null,
      "id": "10c49393",
      "metadata": {
        "id": "10c49393",
        "outputId": "e10cb891-79a1-4ca4-f105-a1910dee141b"
      },
      "outputs": [
        {
          "ename": "SyntaxError",
          "evalue": "invalid syntax (Temp/ipykernel_3908/1227640322.py, line 4)",
          "output_type": "error",
          "traceback": [
            "\u001b[1;36m  File \u001b[1;32m\"C:\\Users\\CSE22004\\AppData\\Local\\Temp/ipykernel_3908/1227640322.py\"\u001b[1;36m, line \u001b[1;32m4\u001b[0m\n\u001b[1;33m    if a<b and b<c :\u001b[0m\n\u001b[1;37m                   ^\u001b[0m\n\u001b[1;31mSyntaxError\u001b[0m\u001b[1;31m:\u001b[0m invalid syntax\n"
          ]
        }
      ],
      "source": [
        "a=int(input(\"enter a: \"))\n",
        "b=int(input(\"enter b: \"))\n",
        "c=int(input(\"enter c: \")\n",
        "if a<b and b<c :\n",
        "      print(a is smaller)\n",
        "elif b<c and c<a :\n",
        "      print(b is smaller)\n",
        "else:\n",
        "      print(c is smaller)"
      ]
    },
    {
      "cell_type": "markdown",
      "id": "0bfbf2de",
      "metadata": {
        "id": "0bfbf2de"
      },
      "source": [
        "## palindrome"
      ]
    },
    {
      "cell_type": "code",
      "execution_count": null,
      "id": "9cf213ed",
      "metadata": {
        "id": "9cf213ed",
        "outputId": "7814e58f-ff9e-4671-f34a-885555985dfe"
      },
      "outputs": [
        {
          "name": "stdout",
          "output_type": "stream",
          "text": [
            "Enter a number:20\n",
            "Not a palindrome!\n"
          ]
        }
      ],
      "source": [
        "num=int(input(\"Enter a number:\"))\n",
        "temp=num\n",
        "rev=0\n",
        "while(num>0):\n",
        "    dig=num%10\n",
        "    rev=rev*10+dig\n",
        "    num=num//10\n",
        "if(temp==rev):\n",
        "     print(\"The number is palindrome!\")\n",
        "else:\n",
        "    print(\"Not a palindrome!\")"
      ]
    },
    {
      "cell_type": "markdown",
      "id": "d085eedf",
      "metadata": {
        "id": "d085eedf"
      },
      "source": [
        "## swap"
      ]
    },
    {
      "cell_type": "code",
      "execution_count": null,
      "id": "0990e967",
      "metadata": {
        "id": "0990e967"
      },
      "outputs": [],
      "source": [
        "a=int(input(\"enter the number\"))\n",
        "b=int(input(\"enter the number\"))\n",
        "a=a+b\n",
        "b=a-b\n",
        "a=a-b\n",
        "print(a)\n",
        "print(b)"
      ]
    }
  ],
  "metadata": {
    "kernelspec": {
      "display_name": "Python 3 (ipykernel)",
      "language": "python",
      "name": "python3"
    },
    "language_info": {
      "codemirror_mode": {
        "name": "ipython",
        "version": 3
      },
      "file_extension": ".py",
      "mimetype": "text/x-python",
      "name": "python",
      "nbconvert_exporter": "python",
      "pygments_lexer": "ipython3",
      "version": "3.9.7"
    },
    "colab": {
      "name": "Control structures 02.ipynb",
      "provenance": [],
      "include_colab_link": true
    }
  },
  "nbformat": 4,
  "nbformat_minor": 5
}