{
  "cells": [
    {
      "cell_type": "markdown",
      "metadata": {
        "id": "view-in-github",
        "colab_type": "text"
      },
      "source": [
        "<a href=\"https://colab.research.google.com/github/PuligundlaPrajwal/PYTHON/blob/main/control_statements.ipynb\" target=\"_parent\"><img src=\"https://colab.research.google.com/assets/colab-badge.svg\" alt=\"Open In Colab\"/></a>"
      ]
    },
    {
      "cell_type": "markdown",
      "id": "77eff95f",
      "metadata": {
        "id": "77eff95f"
      },
      "source": [
        "# IF"
      ]
    },
    {
      "cell_type": "markdown",
      "id": "e2f5d65c",
      "metadata": {
        "id": "e2f5d65c"
      },
      "source": [
        "### voting"
      ]
    },
    {
      "cell_type": "code",
      "execution_count": null,
      "id": "c8b0c98b",
      "metadata": {
        "id": "c8b0c98b",
        "outputId": "e8cbc2b7-110f-48ff-88dd-1903efd75cb8"
      },
      "outputs": [
        {
          "name": "stdout",
          "output_type": "stream",
          "text": [
            "you are eligible for voting\n"
          ]
        }
      ],
      "source": [
        "a=20\n",
        "if a>=20:\n",
        "         print(\"you are eligible for voting\")\n",
        "else :\n",
        "       print(\"you are not eligible for voting\")\n",
        "   \n",
        "    "
      ]
    },
    {
      "cell_type": "code",
      "execution_count": null,
      "id": "53227618",
      "metadata": {
        "id": "53227618",
        "outputId": "9e7b5374-b6ed-43fb-e495-9b62cb524170"
      },
      "outputs": [
        {
          "name": "stdout",
          "output_type": "stream",
          "text": [
            "enter the age20\n",
            "you are eligible for voting\n"
          ]
        }
      ],
      "source": [
        "a=int(input(\"enter the age\"))\n",
        "if a>=20:\n",
        "    print(\"you are eligible for voting\")\n",
        "else :\n",
        "       print(\"you are not eligible for voting\")\n",
        "   \n",
        "    "
      ]
    },
    {
      "cell_type": "markdown",
      "id": "420018ec",
      "metadata": {
        "id": "420018ec"
      },
      "source": [
        "### Greatest f 3 no..."
      ]
    },
    {
      "cell_type": "code",
      "execution_count": null,
      "id": "2c3cf865",
      "metadata": {
        "id": "2c3cf865",
        "outputId": "619c5750-54c7-4da0-c4f7-f438a66f9424"
      },
      "outputs": [
        {
          "name": "stdout",
          "output_type": "stream",
          "text": [
            "c is greater\n"
          ]
        }
      ],
      "source": [
        "a=20\n",
        "b=25\n",
        "c=35\n",
        "if a>b and a>c:\n",
        "    print(\"a is greater\")\n",
        "elif b>c and b>a:\n",
        "    print(\"b is greater\")\n",
        "elif c>a and c>b:\n",
        "    print(\"c is greater\")\n",
        "else:\n",
        "    print(\"it is an error\")"
      ]
    },
    {
      "cell_type": "code",
      "execution_count": null,
      "id": "144e3c23",
      "metadata": {
        "id": "144e3c23",
        "outputId": "1b855d64-a23f-497b-9ac6-92cba2daa943"
      },
      "outputs": [
        {
          "name": "stdout",
          "output_type": "stream",
          "text": [
            "enter the no20\n",
            "enter the no25\n",
            "enter the no30\n",
            "c is greater\n"
          ]
        }
      ],
      "source": [
        "a=int(input(\"enter the no\"))\n",
        "b=int(input(\"enter the no\"))\n",
        "c=int(input(\"enter the no\"))\n",
        "if a>b and a>c:\n",
        "    print(\"a is greater\")\n",
        "elif b>c and b>a:\n",
        "    print(\"b is greater\")\n",
        "else:\n",
        "    print(\"c is greater\")"
      ]
    },
    {
      "cell_type": "markdown",
      "id": "0ecac6a0",
      "metadata": {
        "id": "0ecac6a0"
      },
      "source": [
        "### Greatest of 5 no.."
      ]
    },
    {
      "cell_type": "code",
      "execution_count": null,
      "id": "60721b67",
      "metadata": {
        "id": "60721b67",
        "outputId": "350287c8-045c-46f7-9b65-520908bc998a"
      },
      "outputs": [
        {
          "name": "stdout",
          "output_type": "stream",
          "text": [
            "enter the no20\n",
            "enter the no10\n",
            "enter the no50\n",
            "enter the no30\n",
            "enter the no10\n",
            "c is greater\n"
          ]
        }
      ],
      "source": [
        "a=int(input(\"enter the no\"))\n",
        "b=int(input(\"enter the no\"))\n",
        "c=int(input(\"enter the no\"))\n",
        "d=int(input(\"enter the no\"))\n",
        "e=int(input(\"enter the no\"))\n",
        "if a>b and a>c and a>d and a>e:\n",
        "    print(\"a is greater\")\n",
        "elif b>c and b>d and b>e and b>a:\n",
        "    print(\"b is greater\")\n",
        "elif c>d and c>e and c>a and c>b:\n",
        "    print(\"c is greater\")\n",
        "elif d>e and d>a and d>b and d>c:\n",
        "    print(\"d is greater\")\n",
        "else:\n",
        "    print(\"e is greater\")"
      ]
    },
    {
      "cell_type": "markdown",
      "id": "09183b65",
      "metadata": {
        "id": "09183b65"
      },
      "source": [
        "### Subect marks"
      ]
    },
    {
      "cell_type": "code",
      "execution_count": null,
      "id": "19b81d2b",
      "metadata": {
        "id": "19b81d2b"
      },
      "outputs": [],
      "source": [
        ""
      ]
    },
    {
      "cell_type": "markdown",
      "id": "4f097c93",
      "metadata": {
        "id": "4f097c93"
      },
      "source": [
        "### 1 to 100 series"
      ]
    },
    {
      "cell_type": "code",
      "execution_count": null,
      "id": "87ee6467",
      "metadata": {
        "id": "87ee6467",
        "outputId": "26ffaee0-eaeb-475e-fb2e-f9e16dbe653d"
      },
      "outputs": [
        {
          "name": "stdout",
          "output_type": "stream",
          "text": [
            "0\n",
            "2\n",
            "4\n",
            "6\n",
            "8\n",
            "10\n",
            "12\n",
            "14\n",
            "16\n",
            "18\n",
            "20\n",
            "22\n",
            "24\n",
            "26\n",
            "28\n",
            "30\n",
            "32\n",
            "34\n",
            "36\n",
            "38\n",
            "40\n",
            "42\n",
            "44\n",
            "46\n",
            "48\n",
            "50\n",
            "52\n",
            "54\n",
            "56\n",
            "58\n",
            "60\n",
            "62\n",
            "64\n",
            "66\n",
            "68\n",
            "70\n",
            "72\n",
            "74\n",
            "76\n",
            "78\n",
            "80\n",
            "82\n",
            "84\n",
            "86\n",
            "88\n",
            "90\n",
            "92\n",
            "94\n",
            "96\n",
            "98\n",
            "100\n",
            "error\n"
          ]
        }
      ],
      "source": [
        "for x in range(101):\n",
        "     if x%2 == 0:\n",
        "                print(x)\n",
        "else:\n",
        "    print(\"error\")"
      ]
    },
    {
      "cell_type": "markdown",
      "id": "d6af995d",
      "metadata": {
        "id": "d6af995d"
      },
      "source": [
        "### range 1,30"
      ]
    },
    {
      "cell_type": "code",
      "execution_count": null,
      "id": "57e9cf9f",
      "metadata": {
        "id": "57e9cf9f"
      },
      "outputs": [],
      "source": [
        ""
      ]
    }
  ],
  "metadata": {
    "kernelspec": {
      "display_name": "Python 3 (ipykernel)",
      "language": "python",
      "name": "python3"
    },
    "language_info": {
      "codemirror_mode": {
        "name": "ipython",
        "version": 3
      },
      "file_extension": ".py",
      "mimetype": "text/x-python",
      "name": "python",
      "nbconvert_exporter": "python",
      "pygments_lexer": "ipython3",
      "version": "3.9.7"
    },
    "colab": {
      "name": "control statements.ipynb",
      "provenance": [],
      "include_colab_link": true
    }
  },
  "nbformat": 4,
  "nbformat_minor": 5
}